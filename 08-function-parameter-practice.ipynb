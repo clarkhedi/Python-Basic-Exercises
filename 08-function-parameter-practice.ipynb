{
 "cells": [
  {
   "cell_type": "markdown",
   "metadata": {},
   "source": [
    "**函数参数定义顺序：普通参数-->默认参数-->可变参数-->关键字参数**"
   ]
  },
  {
   "cell_type": "markdown",
   "metadata": {},
   "source": [
    "### 普通参数"
   ]
  },
  {
   "cell_type": "code",
   "execution_count": 1,
   "metadata": {},
   "outputs": [
    {
     "data": {
      "text/plain": [
       "15"
      ]
     },
     "execution_count": 1,
     "metadata": {},
     "output_type": "execute_result"
    }
   ],
   "source": [
    "def my_sum(x):\n",
    "    s = 0\n",
    "    for i in x:\n",
    "        s += i\n",
    "    return s\n",
    "\n",
    "my_sum([1,2,3,4,5])"
   ]
  },
  {
   "cell_type": "markdown",
   "metadata": {},
   "source": [
    "### 默认参数"
   ]
  },
  {
   "cell_type": "markdown",
   "metadata": {},
   "source": [
    "**`int()`**有两个参数，第二个参数是转换进制，为默认参数。如果不传，默认是十进制(base=10)"
   ]
  },
  {
   "cell_type": "code",
   "execution_count": 2,
   "metadata": {},
   "outputs": [
    {
     "data": {
      "text/plain": [
       "21"
      ]
     },
     "execution_count": 2,
     "metadata": {},
     "output_type": "execute_result"
    }
   ],
   "source": [
    "int('10101',2) #计算二进制"
   ]
  },
  {
   "cell_type": "markdown",
   "metadata": {},
   "source": [
    "请定义一个 `greet()` 函数，它包含一个默认参数，如果没有传入，打印 `'Hello, world.'`，如果传入，打印 `'Hello, xxx.'`."
   ]
  },
  {
   "cell_type": "code",
   "execution_count": 3,
   "metadata": {},
   "outputs": [
    {
     "name": "stdout",
     "output_type": "stream",
     "text": [
      "hello,world.\n",
      "hello,Bart.\n"
     ]
    }
   ],
   "source": [
    "def greet(name='world'):\n",
    "    print(f'hello,{name}.')\n",
    "\n",
    "greet()\n",
    "greet('Bart')"
   ]
  },
  {
   "cell_type": "markdown",
   "metadata": {},
   "source": [
    "### 可变参数"
   ]
  },
  {
   "cell_type": "markdown",
   "metadata": {},
   "source": [
    "可变参数的名字前面有个**`*`**号，我们可以传入0个、1个或多个参数给可变参数。"
   ]
  },
  {
   "cell_type": "code",
   "execution_count": 4,
   "metadata": {},
   "outputs": [
    {
     "name": "stdout",
     "output_type": "stream",
     "text": [
      "('a', 'b')\n"
     ]
    }
   ],
   "source": [
    "def fn(*args):\n",
    "    print(args)  \n",
    "    \n",
    "fn('a','b')"
   ]
  },
  {
   "cell_type": "markdown",
   "metadata": {},
   "source": [
    "注：其实在Python解释器中把**`args`**看成一个**`tuple`**就好了。"
   ]
  },
  {
   "cell_type": "markdown",
   "metadata": {},
   "source": [
    "请编写接受可变参数的`average()`函数。"
   ]
  },
  {
   "cell_type": "code",
   "execution_count": 5,
   "metadata": {},
   "outputs": [
    {
     "data": {
      "text/plain": [
       "2.4"
      ]
     },
     "execution_count": 5,
     "metadata": {},
     "output_type": "execute_result"
    }
   ],
   "source": [
    "def average(*args):\n",
    "    n = s = 0\n",
    "    for i in args:\n",
    "        s += i\n",
    "        n += 1\n",
    "    if n == 0:\n",
    "        return 0\n",
    "    else:\n",
    "        return s/n\n",
    "\n",
    "average() # 0\n",
    "average(1,2) # 1.5\n",
    "average(1,2,2,3,4)"
   ]
  },
  {
   "cell_type": "markdown",
   "metadata": {},
   "source": [
    "### 关键字参数"
   ]
  },
  {
   "cell_type": "markdown",
   "metadata": {},
   "source": [
    "关键字参数的名字前面有个`**`号，可以允许传入**字典**参数给关键字参数。"
   ]
  },
  {
   "cell_type": "code",
   "execution_count": 6,
   "metadata": {},
   "outputs": [
    {
     "data": {
      "text/plain": [
       "{'name': '小猪', 'age': 40, 'gender': 'male'}"
      ]
     },
     "execution_count": 6,
     "metadata": {},
     "output_type": "execute_result"
    }
   ],
   "source": [
    "def student(name,age,**kv):\n",
    "    d = {'name':name,'age':age}\n",
    "    d.update(kv) #将关键字参数更新到 d 中\n",
    "    return d \n",
    "\n",
    "student('小猪',40,gender='male')"
   ]
  },
  {
   "cell_type": "markdown",
   "metadata": {},
   "source": [
    "注：其实在Python解释器中把**`kv`**看成一个**`dict`**就好了。"
   ]
  }
 ],
 "metadata": {
  "kernelspec": {
   "display_name": "Python 3",
   "language": "python",
   "name": "python3"
  },
  "language_info": {
   "codemirror_mode": {
    "name": "ipython",
    "version": 3
   },
   "file_extension": ".py",
   "mimetype": "text/x-python",
   "name": "python",
   "nbconvert_exporter": "python",
   "pygments_lexer": "ipython3",
   "version": "3.7.6"
  }
 },
 "nbformat": 4,
 "nbformat_minor": 4
}
