{
 "cells": [
  {
   "cell_type": "markdown",
   "metadata": {},
   "source": [
    "汉诺塔 (http://baike.baidu.com/view/191666.htm) 的移动也可以看做是递归函数。  \n",
    "我们对柱子编号为a, b, c，将所有圆盘从a移到c可以描述为：  \n",
    "如果a只有一个圆盘，可以直接移动到c；  \n",
    "如果a有N个圆盘，可以看成a有1个圆盘（底盘） + (N-1)个圆盘，首先需要把 (N-1) 个圆盘移动到 b，然后，将 a的最后一个圆盘移动到c，再将b的(N-1)个圆盘移动到c。  \n",
    "请编写一个函数，给定输入 n, a, b, c，打印出移动的步骤：  \n",
    "`move(n, a, b, c)`      \n",
    "例如，输入 move(2, 'A', 'B', 'C')，打印出：  \n",
    "A --> B  \n",
    "A --> C  \n",
    "B --> C  \n"
   ]
  },
  {
   "cell_type": "code",
   "execution_count": 1,
   "metadata": {
    "scrolled": true
   },
   "outputs": [
    {
     "name": "stdout",
     "output_type": "stream",
     "text": [
      "A --> C\n",
      "A --> B\n",
      "C --> B\n",
      "A --> C\n",
      "B --> A\n",
      "B --> C\n",
      "A --> C\n",
      "总共移动圆盘的次数：7次！\n"
     ]
    }
   ],
   "source": [
    "def move(n,a,b,c):\n",
    "    global i\n",
    "    if n == 1:\n",
    "        print(a,'-->',c)\n",
    "        i += 1\n",
    "    else:\n",
    "        move(n-1,a,c,b) \n",
    "        #ex: n==3,即此时状态：move(2,'A','C','B')---最终递归到 n==1: 'A'-->'C'。\n",
    "        \n",
    "        print(a,'-->',c) #由上面状态 a-->c 即： 'A'-->'B' 。\n",
    "        i += 1\n",
    "        \n",
    "        move(n-1,b,a,c) \n",
    "        #ex: n==3,即此时状态：move(2,'B','A','C')，这时注意又会进入上面的move递归，所以最终递归到 n==1: 'A'-->'C'。\n",
    "\n",
    "i = 0 #记录移动次数\n",
    "move(3,'A','B','C') #调用\n",
    "print(f'总共移动圆盘的次数：{i}次！')"
   ]
  }
 ],
 "metadata": {
  "kernelspec": {
   "display_name": "Python 3",
   "language": "python",
   "name": "python3"
  },
  "language_info": {
   "codemirror_mode": {
    "name": "ipython",
    "version": 3
   },
   "file_extension": ".py",
   "mimetype": "text/x-python",
   "name": "python",
   "nbconvert_exporter": "python",
   "pygments_lexer": "ipython3",
   "version": "3.7.6"
  }
 },
 "nbformat": 4,
 "nbformat_minor": 4
}
