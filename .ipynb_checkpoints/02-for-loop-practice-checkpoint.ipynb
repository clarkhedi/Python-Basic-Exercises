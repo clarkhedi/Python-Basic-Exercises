{
 "cells": [
  {
   "cell_type": "markdown",
   "metadata": {},
   "source": [
    "班里考试后，老师要统计60分及60分以上及格同学的平均成绩，已知7位同学的成绩用list表示如下：  \n",
    "L = [75, 92, 59, 68, 89, 53, 85]  \n",
    "请利用for循环计算出及格同学的平均成绩。"
   ]
  },
  {
   "cell_type": "code",
   "execution_count": 1,
   "metadata": {},
   "outputs": [
    {
     "name": "stdout",
     "output_type": "stream",
     "text": [
      "统计如下：\n",
      "及格的同学有5个,及格同学的平均成绩为81.8.\n"
     ]
    }
   ],
   "source": [
    "L = [75, 92, 59, 68, 89, 53, 85]\n",
    "average = 0.0\n",
    "n =0\n",
    "\n",
    "for grade in L:\n",
    "    if grade < 60:\n",
    "        continue\n",
    "    average += grade\n",
    "    n += 1\n",
    "print(f'统计如下：\\n及格的同学有{n}个,及格同学的平均成绩为{average/n}.')"
   ]
  },
  {
   "cell_type": "markdown",
   "metadata": {},
   "source": [
    "用*****打印等腰直角三角形。"
   ]
  },
  {
   "cell_type": "code",
   "execution_count": 2,
   "metadata": {},
   "outputs": [
    {
     "name": "stdout",
     "output_type": "stream",
     "text": [
      "* \n",
      "* * \n",
      "* * * \n",
      "* * * * \n",
      "* * * * * \n"
     ]
    }
   ],
   "source": [
    "for i in range(1,6):\n",
    "    print('* '*i)"
   ]
  },
  {
   "cell_type": "markdown",
   "metadata": {},
   "source": [
    "用*****打印等腰三角形。"
   ]
  },
  {
   "cell_type": "code",
   "execution_count": 3,
   "metadata": {},
   "outputs": [
    {
     "name": "stdout",
     "output_type": "stream",
     "text": [
      "    *     \n",
      "   ***    \n",
      "  *****   \n",
      " *******  \n",
      "********* \n"
     ]
    }
   ],
   "source": [
    "'''str.center(width[, fillchar])函数:\n",
    "返回一个指定的宽度 width 居中的字符串，如果 width 小于字符串宽度直接返回字符串，否则使用 fillchar 去填充。\n",
    "fillchar 默认是空格,fillchar 只能是单个字符\n",
    "'''\n",
    "for i in range(1,10):\n",
    "    str=('*'*i)\n",
    "    if i % 2 != 0:\n",
    "        print(str.center(10))"
   ]
  },
  {
   "cell_type": "markdown",
   "metadata": {},
   "source": [
    "用*****打印正方形。"
   ]
  },
  {
   "cell_type": "code",
   "execution_count": 4,
   "metadata": {},
   "outputs": [
    {
     "name": "stdin",
     "output_type": "stream",
     "text": [
      "请输入正方形边长： 6\n"
     ]
    },
    {
     "name": "stdout",
     "output_type": "stream",
     "text": [
      "* * * * * * \n",
      "* * * * * * \n",
      "* * * * * * \n",
      "* * * * * * \n",
      "* * * * * * \n",
      "* * * * * * \n"
     ]
    }
   ],
   "source": [
    "edge = int(input('请输入正方形边长：'))\n",
    "for i in range(edge):\n",
    "    print('* '*edge)"
   ]
  },
  {
   "cell_type": "code",
   "execution_count": null,
   "metadata": {},
   "outputs": [],
   "source": []
  }
 ],
 "metadata": {
  "kernelspec": {
   "display_name": "Python 3",
   "language": "python",
   "name": "python3"
  },
  "language_info": {
   "codemirror_mode": {
    "name": "ipython",
    "version": 3
   },
   "file_extension": ".py",
   "mimetype": "text/x-python",
   "name": "python",
   "nbconvert_exporter": "python",
   "pygments_lexer": "ipython3",
   "version": "3.7.6"
  }
 },
 "nbformat": 4,
 "nbformat_minor": 4
}
