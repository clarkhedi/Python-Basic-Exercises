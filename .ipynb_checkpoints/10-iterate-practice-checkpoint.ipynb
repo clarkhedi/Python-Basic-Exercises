{
 "cells": [
  {
   "cell_type": "markdown",
   "metadata": {},
   "source": [
    "请用for循环迭代数列1-100并打印出7的倍数。"
   ]
  },
  {
   "cell_type": "code",
   "execution_count": 1,
   "metadata": {},
   "outputs": [
    {
     "name": "stdout",
     "output_type": "stream",
     "text": [
      "7 14 21 28 35 42 49 56 63 70 77 84 91 98 "
     ]
    }
   ],
   "source": [
    "for i in range(1,100):\n",
    "    if i % 7 == 0:\n",
    "        print(i,end=' ')"
   ]
  },
  {
   "cell_type": "markdown",
   "metadata": {},
   "source": [
    "`enumerate()`函数自动把每个元素变成(index,element)这样的tuple,再迭代就同时获得了索引和元素本身。\n",
    "\n",
    "`zip()`函数可以把两个list变成一个list:\n",
    "```python\n",
    "zip(['A','B','C'],[10,20,30])\n",
    "#输出： [('A',10),('B',20),('C',30)]\n",
    "```"
   ]
  },
  {
   "cell_type": "code",
   "execution_count": 2,
   "metadata": {},
   "outputs": [
    {
     "name": "stdout",
     "output_type": "stream",
     "text": [
      "1 - Adam\n",
      "2 - Lisa\n",
      "3 - Bart\n",
      "4 - Paul\n"
     ]
    }
   ],
   "source": [
    "#请打印出L中 名次-名字(名次从1开始)\n",
    "L = ['Adam','Lisa','Bart','Paul']\n",
    "for index,name in enumerate(L):\n",
    "    print(index+1,'-',name)"
   ]
  },
  {
   "cell_type": "code",
   "execution_count": 3,
   "metadata": {},
   "outputs": [
    {
     "name": "stdout",
     "output_type": "stream",
     "text": [
      "1 - Adam\n",
      "2 - Lisa\n",
      "3 - Bart\n",
      "4 - Paul\n"
     ]
    }
   ],
   "source": [
    "L = ['Adam','Lisa','Bart','Paul']\n",
    "for index,name in zip([1,2,3,4],L):\n",
    "    print(index,'-',name)"
   ]
  },
  {
   "cell_type": "code",
   "execution_count": 4,
   "metadata": {},
   "outputs": [
    {
     "name": "stdout",
     "output_type": "stream",
     "text": [
      "一共有4位同学,这4位同学的平均分为78.25分。\n"
     ]
    }
   ],
   "source": [
    "#请计算所有同学的平均分\n",
    "d = {'Adam':95,'Lisa':85,'Bart':59,'Paul':74}\n",
    "sum =0.0\n",
    "n = 0\n",
    "for value in d.values():\n",
    "    sum += value\n",
    "    n += 1\n",
    "print(f'一共有{n}位同学,这{n}位同学的平均分为{sum/n}分。')"
   ]
  },
  {
   "cell_type": "code",
   "execution_count": 5,
   "metadata": {},
   "outputs": [
    {
     "name": "stdout",
     "output_type": "stream",
     "text": [
      "Adam : 95\n",
      "Lisa : 85\n",
      "Bart : 59\n",
      "Paul : 74\n",
      "average: 78.25\n"
     ]
    }
   ],
   "source": [
    "#打印出 name:score,最后再打印出平均分 average:score\n",
    "d = {'Adam':95,'Lisa':85,'Bart':59,'Paul':74}\n",
    "sum = 0.0\n",
    "n = 0\n",
    "for k,v in d.items():\n",
    "    sum += v\n",
    "    print(k,':',v)\n",
    "    n += 1\n",
    "print('average:',sum/n)"
   ]
  }
 ],
 "metadata": {
  "kernelspec": {
   "display_name": "Python 3",
   "language": "python",
   "name": "python3"
  },
  "language_info": {
   "codemirror_mode": {
    "name": "ipython",
    "version": 3
   },
   "file_extension": ".py",
   "mimetype": "text/x-python",
   "name": "python",
   "nbconvert_exporter": "python",
   "pygments_lexer": "ipython3",
   "version": "3.7.6"
  }
 },
 "nbformat": 4,
 "nbformat_minor": 4
}
