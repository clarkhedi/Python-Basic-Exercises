{
 "cells": [
  {
   "cell_type": "code",
   "execution_count": 1,
   "metadata": {},
   "outputs": [
    {
     "name": "stdout",
     "output_type": "stream",
     "text": [
      "[1, 2, 3, 4, 5, 6, 7, 8, 9, 10]\n",
      "[3, 6, 9, 12, 15, 18, 21, 24, 27, 30, 33, 36, 39, 42, 45, 48, 51, 54, 57, 60, 63, 66, 69, 72, 75, 78, 81, 84, 87, 90, 93, 96, 99]\n",
      "[5, 10, 15, 20, 25, 30, 35, 40, 45, 50]\n"
     ]
    }
   ],
   "source": [
    "L = list(range(1,101))\n",
    "\n",
    "#正序切片(第一个元素索引是0，左闭右开)\n",
    "print(L[:10]) #前10个数\n",
    "print(L[2::3]) #3的倍数\n",
    "print(L[4:50:5]) #不大于50的5的倍数"
   ]
  },
  {
   "cell_type": "code",
   "execution_count": 2,
   "metadata": {},
   "outputs": [
    {
     "name": "stdout",
     "output_type": "stream",
     "text": [
      "[91, 92, 93, 94, 95, 96, 97, 98, 99, 100]\n",
      "[95, 100]\n"
     ]
    }
   ],
   "source": [
    "L = list(range(1,101))\n",
    "\n",
    "#倒序切片(记住倒数第一个元素的索引是-1)\n",
    "print(L[-10:]) #最后10个数\n",
    "print(L[-6::5]) #最后10个5的倍数"
   ]
  },
  {
   "cell_type": "markdown",
   "metadata": {},
   "source": [
    "请设计一个函数，它接受一个字符串，然后返回一个仅首字母变成大写的字符串。  \n",
    "**提示：** 利用切片操作简化字符串操作。"
   ]
  },
  {
   "cell_type": "code",
   "execution_count": 3,
   "metadata": {},
   "outputs": [
    {
     "name": "stdout",
     "output_type": "stream",
     "text": [
      "Hello\n",
      "Sunday\n",
      "September\n"
     ]
    }
   ],
   "source": [
    "# upper()方法能把字符串所有字母变成大写 ex: s.upper() \n",
    "def firstCharUpper(s):\n",
    "    return s[0].upper() + s[1:] #这里用字符串切片将第一个字母大写\n",
    "\n",
    "print(firstCharUpper('hello'))\n",
    "print(firstCharUpper('sunday'))\n",
    "print(firstCharUpper('september'))"
   ]
  }
 ],
 "metadata": {
  "kernelspec": {
   "display_name": "Python 3",
   "language": "python",
   "name": "python3"
  },
  "language_info": {
   "codemirror_mode": {
    "name": "ipython",
    "version": 3
   },
   "file_extension": ".py",
   "mimetype": "text/x-python",
   "name": "python",
   "nbconvert_exporter": "python",
   "pygments_lexer": "ipython3",
   "version": "3.7.6"
  }
 },
 "nbformat": 4,
 "nbformat_minor": 4
}
