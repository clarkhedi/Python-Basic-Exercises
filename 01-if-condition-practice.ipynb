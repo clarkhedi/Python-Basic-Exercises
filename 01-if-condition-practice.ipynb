{
 "cells": [
  {
   "cell_type": "markdown",
   "metadata": {},
   "source": [
    "### if-elif-esle\n",
    "\n",
    "**特别注意:** 这一系列条件判断会从上到下依次判断，如果某个判断为 True，执行完对应的代码块，后面的条件判断就直接忽略，`不再执行了`。"
   ]
  },
  {
   "cell_type": "markdown",
   "metadata": {},
   "source": [
    "如果按照分数划定结果：  \n",
    "   90分或以上：excellent  \n",
    "   80分或以上：good  \n",
    "   60分或以上：passed  \n",
    "   60分以下：failed  \n",
    "请编写程序根据分数打印结果。"
   ]
  },
  {
   "cell_type": "code",
   "execution_count": 1,
   "metadata": {},
   "outputs": [
    {
     "name": "stdin",
     "output_type": "stream",
     "text": [
      "请输入你的分数(退出程序请输入q): 98\n"
     ]
    },
    {
     "name": "stdout",
     "output_type": "stream",
     "text": [
      "excellent\n",
      "************************************************\n"
     ]
    },
    {
     "name": "stdin",
     "output_type": "stream",
     "text": [
      "请输入你的分数(退出程序请输入q): 89\n"
     ]
    },
    {
     "name": "stdout",
     "output_type": "stream",
     "text": [
      "good\n",
      "************************************************\n"
     ]
    },
    {
     "name": "stdin",
     "output_type": "stream",
     "text": [
      "请输入你的分数(退出程序请输入q): 78\n"
     ]
    },
    {
     "name": "stdout",
     "output_type": "stream",
     "text": [
      "passed\n",
      "************************************************\n"
     ]
    },
    {
     "name": "stdin",
     "output_type": "stream",
     "text": [
      "请输入你的分数(退出程序请输入q): 53\n"
     ]
    },
    {
     "name": "stdout",
     "output_type": "stream",
     "text": [
      "failed\n",
      "************************************************\n"
     ]
    },
    {
     "name": "stdin",
     "output_type": "stream",
     "text": [
      "请输入你的分数(退出程序请输入q): q\n"
     ]
    },
    {
     "name": "stdout",
     "output_type": "stream",
     "text": [
      "程序退出！\n"
     ]
    }
   ],
   "source": [
    "grade = input('请输入你的分数(退出程序请输入q):')\n",
    "\n",
    "while grade != 'q':\n",
    "    if grade >= '90':\n",
    "        print('excellent')\n",
    "    elif grade >= '80':\n",
    "        print('good')\n",
    "    elif grade >= '60':\n",
    "        print('passed')\n",
    "    else:\n",
    "        print('failed')\n",
    "        \n",
    "    print('************************************************')\n",
    "    grade = input('请输入你的分数(退出程序请输入q):')\n",
    "print('程序退出！')"
   ]
  }
 ],
 "metadata": {
  "kernelspec": {
   "display_name": "Python 3",
   "language": "python",
   "name": "python3"
  },
  "language_info": {
   "codemirror_mode": {
    "name": "ipython",
    "version": 3
   },
   "file_extension": ".py",
   "mimetype": "text/x-python",
   "name": "python",
   "nbconvert_exporter": "python",
   "pygments_lexer": "ipython3",
   "version": "3.7.6"
  }
 },
 "nbformat": 4,
 "nbformat_minor": 4
}
