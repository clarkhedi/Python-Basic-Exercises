{
 "cells": [
  {
   "cell_type": "markdown",
   "metadata": {},
   "source": [
    "`sum()`函数接受一个list作为参数，并返回list所有元素之和。请计算 `1*1 + 2*2 + 3*3 + ... + 100*100`。"
   ]
  },
  {
   "cell_type": "code",
   "execution_count": 1,
   "metadata": {},
   "outputs": [
    {
     "name": "stdout",
     "output_type": "stream",
     "text": [
      "1*1 + 2*2 + 3*3 + ... + 100*100的和为： 338350\n"
     ]
    }
   ],
   "source": [
    "l = []\n",
    "for i in range(1,101):\n",
    "    result = i*i\n",
    "    #print(result,end='\\t')\n",
    "    l.append(result)\n",
    "print('1*1 + 2*2 + 3*3 + ... + 100*100的和为：',sum(l))"
   ]
  },
  {
   "cell_type": "markdown",
   "metadata": {},
   "source": [
    "请定义一个`square_of_sum`函数，他接受一个list，返回list中每个元素平方的和。"
   ]
  },
  {
   "cell_type": "code",
   "execution_count": 2,
   "metadata": {},
   "outputs": [
    {
     "name": "stdout",
     "output_type": "stream",
     "text": [
      "55\n"
     ]
    }
   ],
   "source": [
    "def square_of_sum(l):\n",
    "    L = []\n",
    "    for i in l:\n",
    "        result = i**2\n",
    "        L.append(result)\n",
    "    sum_result = sum(L)\n",
    "    return sum_result\n",
    "\n",
    "print(square_of_sum([1,2,3,4,5]))"
   ]
  },
  {
   "cell_type": "markdown",
   "metadata": {},
   "source": [
    "一元二次方程的定义是：`ax² + bx + c = 0`   \n",
    "请编写一个函数，返回一元二次方程的两个解。  \n",
    "注意：**Python**的`math`包提供了`sqrt()`函数用于计算平方根。"
   ]
  },
  {
   "cell_type": "code",
   "execution_count": 3,
   "metadata": {},
   "outputs": [
    {
     "name": "stdout",
     "output_type": "stream",
     "text": [
      "(-1.0, -1.0)\n"
     ]
    }
   ],
   "source": [
    "import math\n",
    "\n",
    "def quadratic_equation(a,b,c):\n",
    "    x1 = (-b + math.sqrt(b**2 - 4*a*c))/2*a\n",
    "    x2 = (-b - math.sqrt(b**2 - 4*a*c))/2*a\n",
    "    return x1,x2\n",
    "\n",
    "print(quadratic_equation(1,2,1))"
   ]
  }
 ],
 "metadata": {
  "kernelspec": {
   "display_name": "Python 3",
   "language": "python",
   "name": "python3"
  },
  "language_info": {
   "codemirror_mode": {
    "name": "ipython",
    "version": 3
   },
   "file_extension": ".py",
   "mimetype": "text/x-python",
   "name": "python",
   "nbconvert_exporter": "python",
   "pygments_lexer": "ipython3",
   "version": "3.7.6"
  }
 },
 "nbformat": 4,
 "nbformat_minor": 4
}
