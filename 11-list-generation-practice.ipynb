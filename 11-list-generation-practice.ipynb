{
 "cells": [
  {
   "cell_type": "markdown",
   "metadata": {},
   "source": [
    "### 11-1 生成列表\n",
    "\n",
    "请利用列表生成式生成列表[1x2,3x4,5x6,7x8,...,99x100]"
   ]
  },
  {
   "cell_type": "code",
   "execution_count": 1,
   "metadata": {},
   "outputs": [
    {
     "name": "stdout",
     "output_type": "stream",
     "text": [
      "[2, 12, 30, 56, 90, 132, 182, 240, 306, 380, 462, 552, 650, 756, 870, 992, 1122, 1260, 1406, 1560, 1722, 1892, 2070, 2256, 2450, 2652, 2862, 3080, 3306, 3540, 3782, 4032, 4290, 4556, 4830, 5112, 5402, 5700, 6006, 6320, 6642, 6972, 7310, 7656, 8010, 8372, 8742, 9120, 9506, 9900]"
     ]
    }
   ],
   "source": [
    "print([x * (x+1) for x in range(1,100,2)],end='')"
   ]
  },
  {
   "cell_type": "markdown",
   "metadata": {},
   "source": [
    "### 11-2 复杂表达式\n",
    "\n",
    "把打印出来的结果保存为一个`html`文件，就可以在浏览器中看到效果了。  \n",
    "在生成的`html`的表格中，对于没有及格的同学，请把分数标记为红色。  \n",
    "**提示：** 红色可以用 **`<td style=\"color:red\"> `** 实现。"
   ]
  },
  {
   "cell_type": "code",
   "execution_count": 2,
   "metadata": {},
   "outputs": [
    {
     "name": "stdout",
     "output_type": "stream",
     "text": [
      "<table>\n",
      "<tr><th>Name</th><th>Score</th></tr>\n",
      "<tr><td>Adam</td><td>95</td></tr>\n",
      "<tr><td>Lisa</td><td>85</td></tr>\n",
      "<tr><td>Bart</td><td style=\"color:red\">59</td></tr>\n",
      "<tr><td>Paul</td><td>74</td></tr>\n",
      "</table>\n"
     ]
    }
   ],
   "source": [
    "d = {'Adam':95,'Lisa':85,'Bart':59,'Paul':74}\n",
    "\n",
    "def generate_tr(name,score):\n",
    "    if score < 60:\n",
    "        return f'<tr><td>{name}</td><td style=\"color:red\">{score}</td></tr>'\n",
    "    return f'<tr><td>{name}</td><td>{score}</td></tr>'\n",
    "\n",
    "tds = [generate_tr(name,score) for name,score in d.items()]\n",
    "print('<table>')\n",
    "print('<tr><th>Name</th><th>Score</th></tr>')\n",
    "print('\\n'.join(tds))\n",
    "print('</table>')"
   ]
  },
  {
   "cell_type": "markdown",
   "metadata": {},
   "source": [
    "把打印出来的结果保存为一个`html`文件，就可以在浏览器中看到效果了。"
   ]
  },
  {
   "cell_type": "code",
   "execution_count": 3,
   "metadata": {},
   "outputs": [
    {
     "name": "stdout",
     "output_type": "stream",
     "text": [
      "Writing test.html\n"
     ]
    }
   ],
   "source": [
    "%%writefile test.html\n",
    "<table>\n",
    "<tr><th>Name</th><th>Score</th></tr>\n",
    "<tr><td>Adam</td><td>95</td></tr>\n",
    "<tr><td>Lisa</td><td>85</td></tr>\n",
    "<tr><td>Bart</td><td style=\"color:red\">59</td></tr>\n",
    "<tr><td>Paul</td><td>74</td></tr>\n",
    "</table>"
   ]
  },
  {
   "attachments": {
    "73d8232c-add9-4a5c-9f64-384332b53e20.png": {
     "image/png": "[encoded data removed]"
    }
   },
   "cell_type": "markdown",
   "metadata": {},
   "source": [
    "![image.png](attachment:73d8232c-add9-4a5c-9f64-384332b53e20.png)"
   ]
  },
  {
   "cell_type": "markdown",
   "metadata": {},
   "source": [
    "### 11-3 条件过滤\n",
    "**列表生成式** 的 `for` 循环后面还可以加上 `if` 判断。  \n",
    "有了 `if` 条件，只有 `if` 判断为 `True` 的时候，才把循环的当前元素添加到列表中。"
   ]
  },
  {
   "cell_type": "markdown",
   "metadata": {},
   "source": [
    "请编写一个函数，它接受一个 `list`，然后把`list`中的所有字符串变成大写后返回，非字符串元素将被忽略。  \n",
    "**提示：**\n",
    "1. `isinstance(x, str)` 方法可以判断变量 x 是否是字符串；\n",
    "2. `upper()` 方法可以返回一个字符串中所有字母的大写形式。"
   ]
  },
  {
   "cell_type": "code",
   "execution_count": 4,
   "metadata": {},
   "outputs": [
    {
     "name": "stdout",
     "output_type": "stream",
     "text": [
      "['HELLO', 'WORLD']\n"
     ]
    }
   ],
   "source": [
    "def toUppers(L):\n",
    "    return [s.upper() for s in L if isinstance(s,str)]\n",
    "\n",
    "print(toUppers(['Hello','world',101]))"
   ]
  },
  {
   "cell_type": "markdown",
   "metadata": {},
   "source": [
    "### 11-4 多层表达式"
   ]
  },
  {
   "cell_type": "markdown",
   "metadata": {},
   "source": [
    "利用 3 层for循环的列表生成式，找出对称的 3 位数。例如，121 就是对称数，因为从右到左倒过来还是 121。"
   ]
  },
  {
   "cell_type": "code",
   "execution_count": 5,
   "metadata": {},
   "outputs": [
    {
     "name": "stdout",
     "output_type": "stream",
     "text": [
      "[(1, 0, 1), (1, 1, 1), (1, 2, 1), (1, 3, 1), (1, 4, 1), (1, 5, 1), (1, 6, 1), (1, 7, 1), (1, 8, 1), (1, 9, 1), (2, 0, 2), (2, 1, 2), (2, 2, 2), (2, 3, 2), (2, 4, 2), (2, 5, 2), (2, 6, 2), (2, 7, 2), (2, 8, 2), (2, 9, 2), (3, 0, 3), (3, 1, 3), (3, 2, 3), (3, 3, 3), (3, 4, 3), (3, 5, 3), (3, 6, 3), (3, 7, 3), (3, 8, 3), (3, 9, 3), (4, 0, 4), (4, 1, 4), (4, 2, 4), (4, 3, 4), (4, 4, 4), (4, 5, 4), (4, 6, 4), (4, 7, 4), (4, 8, 4), (4, 9, 4), (5, 0, 5), (5, 1, 5), (5, 2, 5), (5, 3, 5), (5, 4, 5), (5, 5, 5), (5, 6, 5), (5, 7, 5), (5, 8, 5), (5, 9, 5), (6, 0, 6), (6, 1, 6), (6, 2, 6), (6, 3, 6), (6, 4, 6), (6, 5, 6), (6, 6, 6), (6, 7, 6), (6, 8, 6), (6, 9, 6), (7, 0, 7), (7, 1, 7), (7, 2, 7), (7, 3, 7), (7, 4, 7), (7, 5, 7), (7, 6, 7), (7, 7, 7), (7, 8, 7), (7, 9, 7), (8, 0, 8), (8, 1, 8), (8, 2, 8), (8, 3, 8), (8, 4, 8), (8, 5, 8), (8, 6, 8), (8, 7, 8), (8, 8, 8), (8, 9, 8), (9, 0, 9), (9, 1, 9), (9, 2, 9), (9, 3, 9), (9, 4, 9), (9, 5, 9), (9, 6, 9), (9, 7, 9), (9, 8, 9), (9, 9, 9)]\n"
     ]
    }
   ],
   "source": [
    "print([(i,j,k) for i in range(1,10) for j in range(10) for k in range(10) if i == k])"
   ]
  }
 ],
 "metadata": {
  "kernelspec": {
   "display_name": "Python 3",
   "language": "python",
   "name": "python3"
  },
  "language_info": {
   "codemirror_mode": {
    "name": "ipython",
    "version": 3
   },
   "file_extension": ".py",
   "mimetype": "text/x-python",
   "name": "python",
   "nbconvert_exporter": "python",
   "pygments_lexer": "ipython3",
   "version": "3.7.6"
  }
 },
 "nbformat": 4,
 "nbformat_minor": 4
}
