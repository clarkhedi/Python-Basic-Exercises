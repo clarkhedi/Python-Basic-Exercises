{
 "cells": [
  {
   "cell_type": "markdown",
   "metadata": {},
   "source": [
    "对100以内的两位数，请使用一个两重循环打印出所有十位数数字比个位数数字小的数，  \n",
    "例如：23(2<3)。"
   ]
  },
  {
   "cell_type": "code",
   "execution_count": 1,
   "metadata": {},
   "outputs": [
    {
     "name": "stdout",
     "output_type": "stream",
     "text": [
      "12\t13\t14\t15\t16\t17\t18\t19\t\n",
      "22\t23\t24\t25\t26\t27\t28\t29\t\n",
      "32\t33\t34\t35\t36\t37\t38\t39\t\n",
      "42\t43\t44\t45\t46\t47\t48\t49\t\n",
      "52\t53\t54\t55\t56\t57\t58\t59\t\n",
      "62\t63\t64\t65\t66\t67\t68\t69\t\n",
      "72\t73\t74\t75\t76\t77\t78\t79\t\n",
      "82\t83\t84\t85\t86\t87\t88\t89\t\n"
     ]
    }
   ],
   "source": [
    "for x in ['1','2','3','4','5','6','7','8']:\n",
    "    for y in ['2','3','4','5','6','7','8','9']:\n",
    "        print(x + y,end='\\t')\n",
    "    print()"
   ]
  },
  {
   "cell_type": "markdown",
   "metadata": {},
   "source": [
    "for循环实现九九乘法表"
   ]
  },
  {
   "cell_type": "code",
   "execution_count": 2,
   "metadata": {},
   "outputs": [
    {
     "name": "stdout",
     "output_type": "stream",
     "text": [
      "1*1=1\t\n",
      "2*1=2\t2*2=4\t\n",
      "3*1=3\t3*2=6\t3*3=9\t\n",
      "4*1=4\t4*2=8\t4*3=12\t4*4=16\t\n",
      "5*1=5\t5*2=10\t5*3=15\t5*4=20\t5*5=25\t\n",
      "6*1=6\t6*2=12\t6*3=18\t6*4=24\t6*5=30\t6*6=36\t\n",
      "7*1=7\t7*2=14\t7*3=21\t7*4=28\t7*5=35\t7*6=42\t7*7=49\t\n",
      "8*1=8\t8*2=16\t8*3=24\t8*4=32\t8*5=40\t8*6=48\t8*7=56\t8*8=64\t\n"
     ]
    }
   ],
   "source": [
    "for i in range(1,9):\n",
    "    for j in range(1,i+1):\n",
    "        print(f'{i}*{j}={j*i}',end='\\t')\n",
    "    print()"
   ]
  }
 ],
 "metadata": {
  "kernelspec": {
   "display_name": "Python 3",
   "language": "python",
   "name": "python3"
  },
  "language_info": {
   "codemirror_mode": {
    "name": "ipython",
    "version": 3
   },
   "file_extension": ".py",
   "mimetype": "text/x-python",
   "name": "python",
   "nbconvert_exporter": "python",
   "pygments_lexer": "ipython3",
   "version": "3.7.6"
  }
 },
 "nbformat": 4,
 "nbformat_minor": 4
}
